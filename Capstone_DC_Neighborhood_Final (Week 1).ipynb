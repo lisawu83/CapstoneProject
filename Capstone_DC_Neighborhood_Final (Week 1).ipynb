{
    "cells": [
        {
            "cell_type": "markdown",
            "metadata": {
                "collapsed": true
            },
            "source": "# Capstone Project - The Battle of the Neighborhoods (Week 2)\n### The Report and Notebook"
        },
        {
            "cell_type": "markdown",
            "metadata": {},
            "source": "## I. Introduction: Business Problem <a name=\"introduction\"></a>"
        },
        {
            "cell_type": "markdown",
            "metadata": {},
            "source": "My friend Wei Li is moving from Beijing to the Washington DC area, as her daughter is going to the Georgetown University in DC in the coming fall.  Wei is interested in living in a DC neighborhood and explores the DC museums and city activities.  Wei is an avid bike rider, loves cooking and enjoys a variety of cuisines. Wei will not have a car in the first several months and will rely on Uber or public transportation for the most part.  In this data science project, I will try to provide insights about the DC neighborhoods which will help her to narrow down the neighborhood(s) for considerations.\n\nI will use the data science tool to generate several more suitable DC neighborhoods based on the above criteria. I will use analysis to shed light on the pros and cons of each area so that she can choose the most ideal neighborshood.  Other people who may be interested in this project could be people who look to move to the DC area in general."
        },
        {
            "cell_type": "markdown",
            "metadata": {},
            "source": "## II. Data <a name=\"data\"></a>"
        },
        {
            "cell_type": "markdown",
            "metadata": {},
            "source": "Based on the definition of the business problem, I think four key factors are important to evaluate:\n* Safety of the neighborhood\n* Easy access to bike trails\n* Close distance to shopping center(s)\n* A variety of restaurants in the neighborhood (any type of restaurant)\n\nI gathered the following data sources to manipulate, extract and generate the required information for this project:\n* Washington DC neighborhood names and geospacial data (source: https://opendata.dc.go): I will use these information to create a dynamic neighborhood map to help visualize key data\n* 2017 - 2019 Washington DC crime reports (source: https://opendata.dc.go):  This will help evaluate the safety of each neighborhood\n* Bike trails available in the DC neighboods (source: https://opendata.dc.go): This is important information given Wei's passion for biking\n* Shops in the DC neighborhoods (source: https://opendata.dc.go): Having shops in or near the neighborhood is critical as Wei loves cooking and shopping\n* Venues and restaurants in the DC neighborhoods (source: Foursquare API): I will use the location information from Foursquare to discover the key activities and life style of the neighborhoods\n\nI downloaded and update most of the above data files in the Github project location (https://github.com/lisawu83/CapstoneProject)."
        },
        {
            "cell_type": "code",
            "execution_count": null,
            "metadata": {},
            "outputs": [],
            "source": ""
        }
    ],
    "metadata": {
        "kernelspec": {
            "display_name": "Python 3.6",
            "language": "python",
            "name": "python3"
        },
        "language_info": {
            "codemirror_mode": {
                "name": "ipython",
                "version": 3
            },
            "file_extension": ".py",
            "mimetype": "text/x-python",
            "name": "python",
            "nbconvert_exporter": "python",
            "pygments_lexer": "ipython3",
            "version": "3.6.8"
        }
    },
    "nbformat": 4,
    "nbformat_minor": 1
}